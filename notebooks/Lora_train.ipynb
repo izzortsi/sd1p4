{
  "cells": [
    {
      "cell_type": "code",
      "source": [
        "# Default env type is test\n",
        "# Change this when running on colab or kaggle\n",
        "ENV_TYPE = \"TEST\""
      ],
      "metadata": {
        "id": "K0VhErRSyZVf"
      },
      "execution_count": 8,
      "outputs": []
    },
    {
      "cell_type": "code",
      "execution_count": null,
      "outputs": [],
      "source": [
        "# Important deps\n",
        "!apt update && apt install -y libgl1-mesa-glx imagemagick\n",
        "\n",
        "if ENV_TYPE != \"TEST\":\n",
        "    !apt install -y git aria2\n",
        "    # Clone the repo\n",
        "    !git clone https://github.com/kk-digital/kcg-ml-sd1p4.git --recurse-submodules -b lora\n",
        "    %cd kcg-ml-sd1p4\n",
        "    # Download model weights\n",
        "    !aria2c https://huggingface.co/CompVis/stable-diffusion-v-1-4-original/resolve/main/sd-v1-4.ckpt -o ./input/model/sd-v1-4.ckpt -j 10"
      ],
      "metadata": {
        "id": "U7lxOmpuP1xH"
      }
    },
    {
      "cell_type": "code",
      "source": [
        "# Install reqs\n",
        "!pip3 install -r lora-tuning/requirements.txt"
      ],
      "metadata": {
        "id": "aZgfLQlHyd8n"
      },
      "execution_count": null,
      "outputs": []
    },
    {
      "cell_type": "code",
      "source": [
        "# Let's now run the 'test suite'\n",
        "if ENV_TYPE != \"TEST\":\n",
        "    !python3 lora-tuning/lora_train.py --num_repeats 16 --lowram\n",
        "else:\n",
        "    !python3 lora-tuning/lora_train.py --num_repeats 16"
      ],
      "metadata": {
        "id": "WCEDITmRzMc1",
        "outputId": "41b2886c-dd2f-4d65-cce7-6ee5ed25b03b",
        "colab": {
          "base_uri": "https://localhost:8080/"
        }
      },
      "execution_count": 17,
      "outputs": [
        {
          "output_type": "stream",
          "name": "stdout",
          "text": [
            "2023-06-23 20:34:03.430284: I tensorflow/core/platform/cpu_feature_guard.cc:182] This TensorFlow binary is optimized to use available CPU instructions in performance-critical operations.\n",
            "To enable the following instructions: AVX2 AVX512F FMA, in other operations, rebuild TensorFlow with the appropriate compiler flags.\n",
            "2023-06-23 20:34:05.675802: W tensorflow/compiler/tf2tensorrt/utils/py_utils.cc:38] TF-TRT Warning: Could not find TensorRT\n",
            "usage: lora_train.py\n",
            "       [-h]\n",
            "       [--dataset DATASET]\n",
            "       [--repo_dir REPO_DIR]\n",
            "       [--activation_tags ACTIVATION_TAGS]\n",
            "       [--num_repeats NUM_REPEATS]\n",
            "       [--max_train_epochs MAX_TRAIN_EPOCHS]\n",
            "       [--save_every_n_epochs SAVE_EVERY_N_EPOCHS]\n",
            "       [--config_file CONFIG_FILE]\n",
            "       [--config_dir CONFIG_DIR]\n",
            "       [--dataset_config_file DATASET_CONFIG_FILE]\n",
            "       [--model_file MODEL_FILE]\n",
            "       [--log_dir LOG_DIR]\n",
            "       [--output_dir OUTPUT_DIR]\n",
            "       [--unet_lr UNET_LR]\n",
            "       [--text_encoder_lr TEXT_ENCODER_LR]\n",
            "       [--network_dim NETWORK_DIM]\n",
            "       [--network_alpha NETWORK_ALPHA]\n",
            "       [--batch_size BATCH_SIZE]\n",
            "       [--caption_extension CAPTION_EXTENSION]\n",
            "       [--resolution RESOLUTION]\n",
            "       [--project_name PROJECT_NAME]\n",
            "       [--continue_from_lora CONTINUE_FROM_LORA]\n",
            "       [--accelerate_config_file ACCELERATE_CONFIG_FILE]\n",
            "lora_train.py: error: unrecognized arguments: --lowram\n"
          ]
        }
      ]
    },
    {
      "cell_type": "code",
      "source": [
        "# Shuffle up dependencies to fix inference\n",
        "!pip3 install -r lora-tuning/inference/requirements.txt"
      ],
      "metadata": {
        "id": "jsd-2fsX0W7G",
        "outputId": "011f2232-e75d-47f2-99f8-8fba6949b432",
        "colab": {
          "base_uri": "https://localhost:8080/"
        }
      },
      "execution_count": 12,
      "outputs": [
        {
          "output_type": "stream",
          "name": "stdout",
          "text": [
            "Looking in indexes: https://pypi.org/simple, https://us-python.pkg.dev/colab-wheels/public/simple/\n",
            "Requirement already satisfied: transformers==4.26.0 in /usr/local/lib/python3.10/dist-packages (from -r lora-tuning/inference/requirements.txt (line 1)) (4.26.0)\n",
            "Collecting diffusers==0.17.1 (from -r lora-tuning/inference/requirements.txt (line 2))\n",
            "  Downloading diffusers-0.17.1-py3-none-any.whl (1.1 MB)\n",
            "\u001b[2K     \u001b[90m━━━━━━━━━━━━━━━━━━━━━━━━━━━━━━━━━━━━━━━━\u001b[0m \u001b[32m1.1/1.1 MB\u001b[0m \u001b[31m47.0 MB/s\u001b[0m eta \u001b[36m0:00:00\u001b[0m\n",
            "\u001b[?25hCollecting pytorch-lightning==1.9.4 (from -r lora-tuning/inference/requirements.txt (line 3))\n",
            "  Downloading pytorch_lightning-1.9.4-py3-none-any.whl (827 kB)\n",
            "\u001b[2K     \u001b[90m━━━━━━━━━━━━━━━━━━━━━━━━━━━━━━━━━━━━━━\u001b[0m \u001b[32m827.8/827.8 kB\u001b[0m \u001b[31m65.4 MB/s\u001b[0m eta \u001b[36m0:00:00\u001b[0m\n",
            "\u001b[?25hCollecting safetensors==0.3.1 (from -r lora-tuning/inference/requirements.txt (line 4))\n",
            "  Downloading safetensors-0.3.1-cp310-cp310-manylinux_2_17_x86_64.manylinux2014_x86_64.whl (1.3 MB)\n",
            "\u001b[2K     \u001b[90m━━━━━━━━━━━━━━━━━━━━━━━━━━━━━━━━━━━━━━━━\u001b[0m \u001b[32m1.3/1.3 MB\u001b[0m \u001b[31m60.3 MB/s\u001b[0m eta \u001b[36m0:00:00\u001b[0m\n",
            "\u001b[?25h\u001b[31mERROR: Could not find a version that satisfies the requirement triton==2.0.1 (from versions: 2.0.0.dev20221030, 2.0.0.dev20221031, 2.0.0.dev20221101, 2.0.0.dev20221103, 2.0.0.dev20221105, 2.0.0.dev20221117, 2.0.0.dev20221120, 2.0.0.dev20221202, 2.0.0.dev20230208, 2.0.0.dev20230217, 2.0.0a1, 2.0.0a2, 2.0.0, 2.0.0.post1)\u001b[0m\u001b[31m\n",
            "\u001b[0m\u001b[31mERROR: No matching distribution found for triton==2.0.1\u001b[0m\u001b[31m\n",
            "\u001b[0m"
          ]
        }
      ]
    },
    {
      "cell_type": "code",
      "source": [
        "# Generate images for each epoch:\n",
        "import os\n",
        "import subprocess\n",
        "\n",
        "# Set the directory containing the .safetensors files\n",
        "lora_path = \"./output/LoRas/test/output/\"\n",
        "checkpoint_path = \"input/model/sd-v1-4.ckpt\"\n",
        "scale = 512\n",
        "prompt = \"a sketch of a pixwaifu, cute, small, chibi, DeviantArt trending\"\n",
        "\n",
        "# Get a list of all .safetensors files in the directory\n",
        "file_list = [filename for filename in os.listdir(lora_path) if filename.endswith(\".safetensors\")]\n",
        "\n",
        "# Set up epoch to begin counting\n",
        "epoch = 1\n",
        "\n",
        "for filename in file_list:\n",
        "    # Generate the image using txt2img.py for each .safetensors file\n",
        "    output_filename = os.path.splitext(filename)[0] + \".png\"\n",
        "    command = f\"python3 lora-tuning/inference/txt2img.py --checkpoint_path {checkpoint_path} --lora {lora_path} --output {output_filename} --scale {scale} --prompt \\\"{prompt}\\\"\"\n",
        "    subprocess.run(command, shell=True, check=True)\n",
        "\n",
        "    epoch += 1\n",
        "\n",
        "# Generate a tiled image with all of the epochs\n",
        "!montage -label '%t' *.png -thumbnail 512x512! -pointsize 22 -gravity center \\\n",
        "    -background Transparent -geometry +0+0 -tile 3x results_lora_epochs.png"
      ],
      "metadata": {
        "id": "0leC51krVbTv",
        "outputId": "8782de64-69fc-4deb-a8c2-4237a72a2a8b",
        "colab": {
          "base_uri": "https://localhost:8080/",
          "height": 235
        }
      },
      "execution_count": 14,
      "outputs": [
        {
          "output_type": "error",
          "ename": "FileNotFoundError",
          "evalue": "ignored",
          "traceback": [
            "\u001b[0;31m---------------------------------------------------------------------------\u001b[0m",
            "\u001b[0;31mFileNotFoundError\u001b[0m                         Traceback (most recent call last)",
            "\u001b[0;32m<ipython-input-14-12beda61a403>\u001b[0m in \u001b[0;36m<cell line: 12>\u001b[0;34m()\u001b[0m\n\u001b[1;32m     10\u001b[0m \u001b[0;34m\u001b[0m\u001b[0m\n\u001b[1;32m     11\u001b[0m \u001b[0;31m# Get a list of all .safetensors files in the directory\u001b[0m\u001b[0;34m\u001b[0m\u001b[0;34m\u001b[0m\u001b[0m\n\u001b[0;32m---> 12\u001b[0;31m \u001b[0mfile_list\u001b[0m \u001b[0;34m=\u001b[0m \u001b[0;34m[\u001b[0m\u001b[0mfilename\u001b[0m \u001b[0;32mfor\u001b[0m \u001b[0mfilename\u001b[0m \u001b[0;32min\u001b[0m \u001b[0mos\u001b[0m\u001b[0;34m.\u001b[0m\u001b[0mlistdir\u001b[0m\u001b[0;34m(\u001b[0m\u001b[0mlora_path\u001b[0m\u001b[0;34m)\u001b[0m \u001b[0;32mif\u001b[0m \u001b[0mfilename\u001b[0m\u001b[0;34m.\u001b[0m\u001b[0mendswith\u001b[0m\u001b[0;34m(\u001b[0m\u001b[0;34m\".safetensors\"\u001b[0m\u001b[0;34m)\u001b[0m\u001b[0;34m]\u001b[0m\u001b[0;34m\u001b[0m\u001b[0;34m\u001b[0m\u001b[0m\n\u001b[0m\u001b[1;32m     13\u001b[0m \u001b[0;34m\u001b[0m\u001b[0m\n\u001b[1;32m     14\u001b[0m \u001b[0;31m# Set up epoch to begin counting\u001b[0m\u001b[0;34m\u001b[0m\u001b[0;34m\u001b[0m\u001b[0m\n",
            "\u001b[0;31mFileNotFoundError\u001b[0m: [Errno 2] No such file or directory: './output/LoRas/test/output/'"
          ]
        }
      ]
    }
  ],
  "metadata": {
    "accelerator": "GPU",
    "colab": {
      "provenance": []
    },
    "kernelspec": {
      "display_name": "Python 3",
      "name": "python3"
    },
    "language_info": {
      "name": "python"
    }
  },
  "nbformat": 4,
  "nbformat_minor": 0
}