{
  "cells": [
    {
      "cell_type": "code",
      "source": [
        "# Default env type is test\n",
        "# Change this when running on colab or kaggle\n",
        "ENV_TYPE = \"TEST\""
      ],
      "metadata": {
        "id": "K0VhErRSyZVf"
      },
      "execution_count": null,
      "outputs": []
    },
    {
      "cell_type": "code",
      "execution_count": null,
      "outputs": [],
      "source": [
        "# Important deps\n",
        "!apt update && apt install -y aria2 python3-pip git libgl1-mesa-glx\n",
        "\n",
        "if ENV_TYPE != \"TEST\":\n",
        "    # Clone the repo\n",
        "    !git clone https://github.com/kk-digital/kcg-ml-sd1p4.git --recurse-submodules -b lora\n",
        "    %cd kcg-ml-sd1p4\n",
        "    # Download model weights\n",
        "    !aria2c https://huggingface.co/CompVis/stable-diffusion-v-1-4-original/resolve/main/sd-v1-4.ckpt -o ./input/model/sd-v1-4.ckpt -j 10"
      ],
      "metadata": {
        "id": "U7lxOmpuP1xH"
      }
    },
    {
      "cell_type": "code",
      "source": [
        "# Install reqs\n",
        "!pip3 install -r lora-tuning/requirements.txt"
      ],
      "metadata": {
        "id": "aZgfLQlHyd8n"
      },
      "execution_count": null,
      "outputs": []
    },
    {
      "cell_type": "code",
      "source": [
        "# Let's now run the 'test suite'\n",
        "!python3 lora-tuning/lora_train.py"
      ],
      "metadata": {
        "id": "WCEDITmRzMc1"
      },
      "execution_count": null,
      "outputs": []
    },
    {
      "cell_type": "code",
      "source": [
        "# Generate images for each epoch:\n",
        "import os\n",
        "import subprocess\n",
        "from PIL import Image, ImageDraw, ImageFont\n",
        "\n",
        "# Set the directory containing the .safetensors files\n",
        "lora_path = \"./output/LoRas/Test/output/\"\n",
        "checkpoint_path = \"input/model/sd-v1-4.ckpt\"\n",
        "scale = 512\n",
        "prompt = \"a sketch of a pixwaifu, cute, small, chibi, DeviantArt trending\"\n",
        "\n",
        "# Get a list of all .safetensors files in the directory\n",
        "file_list = [filename for filename in os.listdir(lora_path) if filename.endswith(\".safetensors\")]\n",
        "\n",
        "# Create a blank canvas to hold the generated images\n",
        "canvas = Image.new(\"RGB\", (1920, 1920))\n",
        "draw = ImageDraw.Draw(canvas)\n",
        "font = ImageFont.truetype(\"arial.ttf\", 16)\n",
        "y_offset = 10\n",
        "epoch = 1\n",
        "\n",
        "for filename in file_list:\n",
        "    # Generate the image using txt2img.py for each .safetensors file\n",
        "    output_filename = os.path.splitext(filename)[0] + \".png\"\n",
        "    command = f\"python3 lora-tuning/inference/txt2img.py --checkpoint_path {checkpoint_path} --lora {lora_path} --output {output_filename} --scale {scale} --prompt \\\"{prompt}\\\"\"\n",
        "    subprocess.run(command, shell=True, check=True)\n",
        "\n",
        "    # Load the generated image\n",
        "    image = Image.open(output_filename)\n",
        "\n",
        "    # Add caption and epoch information to the canvas\n",
        "    caption = f\"Filename: {filename}\\nPrompt: {prompt}\\nEpoch: {epoch}\"\n",
        "    draw.text((10, y_offset), caption, font=font, fill=\"white\")\n",
        "    canvas.paste(image, (10, y_offset + 60))\n",
        "\n",
        "    # Update the y_offset and epoch\n",
        "    y_offset += image.size[1] + 100\n",
        "    epoch += 1\n",
        "\n",
        "# Save the final image\n",
        "canvas.save(\"combined_image.png\")\n"
      ],
      "metadata": {
        "id": "0leC51krVbTv"
      },
      "execution_count": null,
      "outputs": []
    }
  ],
  "metadata": {
    "accelerator": "GPU",
    "colab": {
      "provenance": []
    },
    "kernelspec": {
      "display_name": "Python 3",
      "name": "python3"
    },
    "language_info": {
      "name": "python"
    }
  },
  "nbformat": 4,
  "nbformat_minor": 0
}