{
 "cells": [
  {
   "cell_type": "code",
   "source": [
    "# Default env type is test\n",
    "# Change this when running on colab or kaggle\n",
    "ENV_TYPE = \"TEST\""
   ],
   "metadata": {
    "id": "K0VhErRSyZVf"
   },
   "execution_count": null,
   "outputs": []
  },
  {
   "cell_type": "code",
   "execution_count": null,
   "outputs": [],
   "source": [
    "# Important deps\n",
    "!apt update && apt install -y aria2 python3-pip git libgl1-mesa-glx\n",
    "\n",
    "if ENV_TYPE == \"TEST\":\n",
    "    !git submodule update --init --recursive\n",
    "else:\n",
    "    # Clone the repo\n",
    "    !git clone https://github.com/kk-digital/kcg-ml-sd1p4.git --recurse-submodules -b lora\n",
    "    %cd kcg-ml-sd1p4\n",
    "    # Download model weights\n",
    "    !aria2c https://huggingface.co/CompVis/stable-diffusion-v-1-4-original/resolve/main/sd-v1-4.ckpt -o ./input/model/sd-v1-4.ckpt -j 10"
   ],
   "metadata": {
    "collapsed": false
   }
  },
  {
   "cell_type": "code",
   "source": [
    "# Install reqs\n",
    "!pip3 install -r train/requirements.txt"
   ],
   "metadata": {
    "id": "aZgfLQlHyd8n"
   },
   "execution_count": null,
   "outputs": []
  },
  {
   "cell_type": "code",
   "source": [
    "# Let's now run the 'test suite'\n",
    "!python3 train/lora_train.py"
   ],
   "metadata": {
    "id": "WCEDITmRzMc1"
   },
   "execution_count": null,
   "outputs": []
  }
 ],
 "metadata": {
  "accelerator": "GPU",
  "colab": {
   "provenance": []
  },
  "kernelspec": {
   "display_name": "Python 3",
   "name": "python3"
  },
  "language_info": {
   "name": "python"
  }
 },
 "nbformat": 4,
 "nbformat_minor": 0
}
