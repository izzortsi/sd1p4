{
  "cells": [
    {
      "cell_type": "code",
      "source": [
        "import sys\n",
        "# Important deps\n",
        "!apt update && apt install -y aria2 python3-pip git libgl1-mesa-glx\n",
        "\n",
        "# Clone the repo\n",
        "!git clone https://github.com/kk-digital/kcg-ml-sd1p4.git --recurse-submodules -b lora\n",
        "\n",
        "%cd kcg-ml-sd1p4"
      ],
      "metadata": {
        "id": "K0VhErRSyZVf"
      },
      "execution_count": null,
      "outputs": []
    },
    {
      "cell_type": "code",
      "source": [
        "# Install reqs\n",
        "!pip3 install -r train/requirements.txt"
      ],
      "metadata": {
        "id": "aZgfLQlHyd8n"
      },
      "execution_count": null,
      "outputs": []
    },
    {
      "cell_type": "code",
      "source": [
        "# Download model weights\n",
        "!aria2c https://huggingface.co/CompVis/stable-diffusion-v-1-4-original/resolve/main/sd-v1-4.ckpt -o ./input/model/sd-v1-4.ckpt -j 10"
      ],
      "metadata": {
        "id": "GqvpimavzOKV"
      },
      "execution_count": null,
      "outputs": []
    },
    {
      "cell_type": "code",
      "source": [
        "# Let's now run the 'test suite'\n",
        "!python3 train/lora_train.py"
      ],
      "metadata": {
        "id": "WCEDITmRzMc1"
      },
      "execution_count": null,
      "outputs": []
    }
  ],
  "metadata": {
    "accelerator": "GPU",
    "colab": {
      "provenance": []
    },
    "kernelspec": {
      "display_name": "Python 3",
      "name": "python3"
    },
    "language_info": {
      "name": "python"
    }
  },
  "nbformat": 4,
  "nbformat_minor": 0
}