{
 "cells": [
  {
   "cell_type": "code",
   "execution_count": 1,
   "metadata": {},
   "outputs": [],
   "source": [
    "import os\n",
    "import sys\n",
    "import torch\n",
    "\n",
    "base_directory = \"../\"\n",
    "sys.path.insert(0, base_directory)\n",
    "\n",
    "from stable_diffusion2.latent_diffusion import LatentDiffusion\n",
    "from stable_diffusion2.utils.model import *\n",
    "from stable_diffusion2.utils.utils import SectionManager as section\n",
    "from stable_diffusion2.model.clip.clip_embedder import CLIPTextEmbedder\n",
    "\n",
    "from stable_diffusion2.model.vae.autoencoder import Autoencoder\n",
    "from stable_diffusion2.model.vae.encoder import Encoder\n",
    "from stable_diffusion2.model.vae.decoder import Decoder\n",
    "\n",
    "from stable_diffusion2.model.unet.unet import UNetModel\n",
    "\n",
    "from pathlib import Path"
   ]
  },
  {
   "cell_type": "code",
   "execution_count": 2,
   "metadata": {},
   "outputs": [],
   "source": [
    "CHECKPOINT_PATH = os.path.abspath('../input/model/v1-5-pruned-emaonly.ckpt')\n",
    "\n",
    "EMBEDDER_PATH = os.path.abspath('../input/model/clip/clip_embedder.ckpt')\n",
    "TOKENIZER_PATH = os.path.abspath('../input/model/clip/clip_tokenizer.ckpt')\n",
    "TRANSFORMER_PATH = os.path.abspath('../input/model/clip/clip_transformer.ckpt')\n",
    "\n",
    "UNET_PATH = os.path.abspath('../input/model/unet/unet.ckpt')\n",
    "\n",
    "AUTOENCODER_PATH = os.path.abspath('../input/model/autoencoder/autoencoder.ckpt')\n",
    "ENCODER_PATH = os.path.abspath('../input/model/autoencoder/encoder.ckpt')\n",
    "DECODER_PATH = os.path.abspath('../input/model/autoencoder/decoder.ckpt')\n",
    "\n",
    "LATENT_DIFFUSION_PATH = os.path.abspath('../input/model/latent_diffusion/latent_diffusion.ckpt')"
   ]
  },
  {
   "cell_type": "code",
   "execution_count": 3,
   "metadata": {},
   "outputs": [],
   "source": [
    "def initialize_encoder(device = None, \n",
    "                        z_channels=4,\n",
    "                        in_channels=3,\n",
    "                        channels=128,\n",
    "                        channel_multipliers=[1, 2, 4, 4],\n",
    "                        n_resnet_blocks=2) -> Encoder:\n",
    "    \n",
    "    device = check_device(device)\n",
    "    # Initialize the encoder\n",
    "    with section('encoder initialization'):\n",
    "        encoder = Encoder(z_channels=z_channels,\n",
    "                        in_channels=in_channels,\n",
    "                        channels=channels,\n",
    "                        channel_multipliers=channel_multipliers,\n",
    "                        n_resnet_blocks=n_resnet_blocks).to(device)\n",
    "    return encoder"
   ]
  },
  {
   "cell_type": "code",
   "execution_count": 4,
   "metadata": {},
   "outputs": [
    {
     "name": "stdout",
     "output_type": "stream",
     "text": [
      "Using cuda:0: NVIDIA GeForce RTX 3080 Ti. Slow on CPU.\n",
      "Starting encoder initialization...\n",
      "Finished encoder initialization in 0.27 seconds\n"
     ]
    }
   ],
   "source": [
    "encoder = initialize_encoder()\n",
    "encoder.save(ENCODER_PATH)"
   ]
  },
  {
   "cell_type": "code",
   "execution_count": 5,
   "metadata": {},
   "outputs": [],
   "source": [
    "def initialize_decoder(device = None, \n",
    "                        out_channels=3,\n",
    "                        z_channels=4,\n",
    "                        channels=128,\n",
    "                        channel_multipliers=[1, 2, 4, 4],\n",
    "                        n_resnet_blocks=2) -> Decoder:\n",
    "    \n",
    "    device = check_device(device)\n",
    "    with section('decoder initialization'):\n",
    "        decoder = Decoder(out_channels=out_channels,\n",
    "                        z_channels=z_channels,\n",
    "                        channels=channels,\n",
    "                        channel_multipliers=channel_multipliers,\n",
    "                        n_resnet_blocks=n_resnet_blocks).to(device)    \n",
    "    return decoder"
   ]
  },
  {
   "cell_type": "code",
   "execution_count": 6,
   "metadata": {},
   "outputs": [
    {
     "name": "stdout",
     "output_type": "stream",
     "text": [
      "Using cuda:0: NVIDIA GeForce RTX 3080 Ti. Slow on CPU.\n",
      "Starting decoder initialization...\n",
      "Finished decoder initialization in 0.28 seconds\n"
     ]
    }
   ],
   "source": [
    "decoder = initialize_decoder()\n",
    "decoder.save(DECODER_PATH)"
   ]
  },
  {
   "cell_type": "code",
   "execution_count": 7,
   "metadata": {},
   "outputs": [],
   "source": [
    "def initialize_autoencoder(device = None, encoder = None, decoder = None, emb_channels = 4, z_channels = 4) -> Autoencoder:\n",
    "    device = check_device(device)\n",
    "    # Initialize the autoencoder\n",
    "    with section('autoencoder initialization'):\n",
    "        if encoder is None:\n",
    "            encoder = initialize_encoder(device=device, z_channels=z_channels)\n",
    "        if decoder is None:\n",
    "            decoder = initialize_decoder(device=device, z_channels=z_channels)\n",
    "        \n",
    "        autoencoder = Autoencoder(emb_channels=emb_channels,\n",
    "                                    encoder=encoder,\n",
    "                                    decoder=decoder,\n",
    "                                    z_channels=z_channels).to(device)\n",
    "    return autoencoder"
   ]
  },
  {
   "cell_type": "code",
   "execution_count": 8,
   "metadata": {},
   "outputs": [
    {
     "name": "stdout",
     "output_type": "stream",
     "text": [
      "Using cuda:0: NVIDIA GeForce RTX 3080 Ti. Slow on CPU.\n",
      "Starting autoencoder initialization...\n",
      "Finished autoencoder initialization in 0.00 seconds\n"
     ]
    }
   ],
   "source": [
    "autoencoder = initialize_autoencoder(encoder=encoder, decoder=decoder)"
   ]
  },
  {
   "cell_type": "code",
   "execution_count": 9,
   "metadata": {},
   "outputs": [],
   "source": [
    "img = load_img(\"test_img.jpg\").to(\"cuda:0\")"
   ]
  },
  {
   "cell_type": "code",
   "execution_count": 10,
   "metadata": {},
   "outputs": [],
   "source": [
    "encoded_img = autoencoder.encoder(img)"
   ]
  },
  {
   "cell_type": "code",
   "execution_count": 11,
   "metadata": {},
   "outputs": [],
   "source": [
    "del autoencoder\n",
    "del decoder\n",
    "del encoder\n",
    "torch.cuda.empty_cache()"
   ]
  },
  {
   "cell_type": "code",
   "execution_count": 11,
   "metadata": {},
   "outputs": [
    {
     "name": "stdout",
     "output_type": "stream",
     "text": [
      "Starting autoencoder initialization from saved submodels...\n",
      "Finished autoencoder initialization from saved submodels in 0.25 seconds\n"
     ]
    }
   ],
   "source": [
    "with section(\"autoencoder initialization from saved submodels\"):\n",
    "    autoencoder_3 = Autoencoder(emb_channels=4, z_channels=4)\n",
    "    autoencoder_3.load_submodels(encoder_path=ENCODER_PATH, decoder_path=DECODER_PATH)"
   ]
  },
  {
   "cell_type": "code",
   "execution_count": 12,
   "metadata": {},
   "outputs": [],
   "source": [
    "encoded_img_3 = autoencoder_3.encoder(img)"
   ]
  },
  {
   "cell_type": "code",
   "execution_count": 13,
   "metadata": {},
   "outputs": [
    {
     "data": {
      "text/plain": [
       "(torch.Size([1, 8, 64, 64]), torch.Size([1, 8, 64, 64]))"
      ]
     },
     "execution_count": 13,
     "metadata": {},
     "output_type": "execute_result"
    }
   ],
   "source": [
    "encoded_img.shape, encoded_img_3.shape"
   ]
  },
  {
   "cell_type": "code",
   "execution_count": 14,
   "metadata": {},
   "outputs": [
    {
     "data": {
      "text/plain": [
       "tensor(0., device='cuda:0', grad_fn=<LinalgVectorNormBackward0>)"
      ]
     },
     "execution_count": 14,
     "metadata": {},
     "output_type": "execute_result"
    }
   ],
   "source": [
    "torch.norm(encoded_img_3 - encoded_img)"
   ]
  }
 ],
 "metadata": {
  "kernelspec": {
   "display_name": "kcg",
   "language": "python",
   "name": "python3"
  },
  "language_info": {
   "codemirror_mode": {
    "name": "ipython",
    "version": 3
   },
   "file_extension": ".py",
   "mimetype": "text/x-python",
   "name": "python",
   "nbconvert_exporter": "python",
   "pygments_lexer": "ipython3",
   "version": "3.10.9"
  },
  "orig_nbformat": 4
 },
 "nbformat": 4,
 "nbformat_minor": 2
}
