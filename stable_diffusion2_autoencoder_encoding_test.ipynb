{
 "cells": [
  {
   "cell_type": "code",
   "execution_count": 1,
   "metadata": {},
   "outputs": [],
   "source": [
    "import os\n",
    "import sys\n",
    "import torch\n",
    "import time\n",
    "\n",
    "base_directory = \"../\"\n",
    "sys.path.insert(0, base_directory)\n",
    "\n",
    "from stable_diffusion2.latent_diffusion import LatentDiffusion\n",
    "from stable_diffusion2.stable_diffusion import StableDiffusion\n",
    "from stable_diffusion2.utils.model import *\n",
    "from stable_diffusion2.utils.utils import SectionManager as section\n",
    "from stable_diffusion2.utils.utils import *\n",
    "from stable_diffusion2.model.clip.clip_embedder import CLIPTextEmbedder\n",
    "\n",
    "\n",
    "\n",
    "from stable_diffusion2.model.unet.unet import UNetModel\n",
    "\n",
    "from pathlib import Path"
   ]
  },
  {
   "cell_type": "code",
   "execution_count": 2,
   "metadata": {},
   "outputs": [],
   "source": [
    "# CHECKPOINT_PATH = os.path.abspath('../input/model/v1-5-pruned-emaonly.ckpt')\n",
    "\n",
    "# EMBEDDER_PATH = os.path.abspath('../input/model/clip/clip_embedder.ckpt')\n",
    "# TOKENIZER_PATH = os.path.abspath('../input/model/clip/clip_tokenizer.ckpt')\n",
    "# TRANSFORMER_PATH = os.path.abspath('../input/model/clip/clip_transformer.ckpt')\n",
    "\n",
    "# UNET_PATH = os.path.abspath('../input/model/unet/unet.ckpt')\n",
    "\n",
    "# AUTOENCODER_PATH = os.path.abspath('../input/model/autoencoder/autoencoder.ckpt')\n",
    "# ENCODER_PATH = os.path.abspath('../input/model/autoencoder/encoder.ckpt')\n",
    "# DECODER_PATH = os.path.abspath('../input/model/autoencoder/decoder.ckpt')\n",
    "\n",
    "# LATENT_DIFFUSION_PATH = os.path.abspath('../input/model/latent_diffusion/latent_diffusion.ckpt')"
   ]
  },
  {
   "cell_type": "code",
   "execution_count": 3,
   "metadata": {},
   "outputs": [
    {
     "name": "stdout",
     "output_type": "stream",
     "text": [
      "INFO: `device` is None. Falling back to current device.\n",
      "INFO: Using CUDA device 0: NVIDIA GeForce RTX 3080 Ti.\n"
     ]
    }
   ],
   "source": [
    "device = check_device()"
   ]
  },
  {
   "cell_type": "code",
   "execution_count": 4,
   "metadata": {},
   "outputs": [
    {
     "name": "stdout",
     "output_type": "stream",
     "text": [
      "Free: 11086 MiB\n",
      "Total: 12287 MiB\n",
      "Used: 1201 MiB\n"
     ]
    },
    {
     "data": {
      "text/plain": [
       "(tensor(11086), tensor(12287))"
      ]
     },
     "execution_count": 4,
     "metadata": {},
     "output_type": "execute_result"
    }
   ],
   "source": [
    "get_memory_status()"
   ]
  },
  {
   "cell_type": "code",
   "execution_count": 5,
   "metadata": {},
   "outputs": [
    {
     "name": "stdout",
     "output_type": "stream",
     "text": [
      "Starting section: encoder initialization...\n",
      "INFO: Using CUDA device 0: NVIDIA GeForce RTX 3080 Ti.\n",
      "Finished section: encoder initialization in 0.20 seconds\n",
      "\n"
     ]
    }
   ],
   "source": [
    "encoder = initialize_encoder(device = device)"
   ]
  },
  {
   "cell_type": "code",
   "execution_count": 6,
   "metadata": {},
   "outputs": [
    {
     "name": "stdout",
     "output_type": "stream",
     "text": [
      "Free: 10938 MiB\n",
      "Total: 12287 MiB\n",
      "Used: 1349 MiB\n"
     ]
    },
    {
     "data": {
      "text/plain": [
       "(tensor(10938), tensor(12287))"
      ]
     },
     "execution_count": 6,
     "metadata": {},
     "output_type": "execute_result"
    }
   ],
   "source": [
    "get_memory_status()"
   ]
  },
  {
   "cell_type": "code",
   "execution_count": 7,
   "metadata": {},
   "outputs": [
    {
     "name": "stdout",
     "output_type": "stream",
     "text": [
      "Starting section: autoencoder model loading, from c:\\Users\\igor-\\.cloned\\kcg-ml-sd1p4\\input\\model\\autoencoder\\autoencoder.ckpt...\n",
      "INFO: Using CUDA device 0: NVIDIA GeForce RTX 3080 Ti.\n",
      "Finished section: autoencoder model loading, from c:\\Users\\igor-\\.cloned\\kcg-ml-sd1p4\\input\\model\\autoencoder\\autoencoder.ckpt in 0.00 seconds\n",
      "\n",
      "Starting section: casting autoencoder model to device and evaling...\n",
      "Finished section: casting autoencoder model to device and evaling in 0.00 seconds\n",
      "\n"
     ]
    }
   ],
   "source": [
    "autoencoder = load_autoencoder(device = device)\n",
    "autoencoder.encoder = encoder"
   ]
  },
  {
   "cell_type": "code",
   "execution_count": 8,
   "metadata": {},
   "outputs": [
    {
     "data": {
      "text/plain": [
       "torch.Size([1, 3, 512, 512])"
      ]
     },
     "execution_count": 8,
     "metadata": {},
     "output_type": "execute_result"
    }
   ],
   "source": [
    "img = load_img(\"./scripts2/test_img.jpg\").to(device)\n",
    "img.shape"
   ]
  },
  {
   "cell_type": "code",
   "execution_count": 9,
   "metadata": {},
   "outputs": [
    {
     "name": "stdout",
     "output_type": "stream",
     "text": [
      "Free: 10484 MiB\n",
      "Total: 12287 MiB\n",
      "Used: 1803 MiB\n"
     ]
    },
    {
     "data": {
      "text/plain": [
       "(tensor(10484), tensor(12287))"
      ]
     },
     "execution_count": 9,
     "metadata": {},
     "output_type": "execute_result"
    }
   ],
   "source": [
    "get_memory_status()"
   ]
  },
  {
   "cell_type": "code",
   "execution_count": 10,
   "metadata": {},
   "outputs": [],
   "source": [
    "encoded_img = autoencoder.encode(img)"
   ]
  },
  {
   "cell_type": "code",
   "execution_count": 11,
   "metadata": {},
   "outputs": [
    {
     "name": "stdout",
     "output_type": "stream",
     "text": [
      "Free: 5594 MiB\n",
      "Total: 12287 MiB\n",
      "Used: 6693 MiB\n"
     ]
    },
    {
     "data": {
      "text/plain": [
       "(tensor(5594), tensor(12287))"
      ]
     },
     "execution_count": 11,
     "metadata": {},
     "output_type": "execute_result"
    }
   ],
   "source": [
    "get_memory_status()"
   ]
  },
  {
   "cell_type": "code",
   "execution_count": 12,
   "metadata": {},
   "outputs": [],
   "source": [
    "torch.cuda.empty_cache()"
   ]
  },
  {
   "cell_type": "code",
   "execution_count": 13,
   "metadata": {},
   "outputs": [
    {
     "name": "stdout",
     "output_type": "stream",
     "text": [
      "Free: 5722 MiB\n",
      "Total: 12287 MiB\n",
      "Used: 6565 MiB\n"
     ]
    },
    {
     "data": {
      "text/plain": [
       "(tensor(5722), tensor(12287))"
      ]
     },
     "execution_count": 13,
     "metadata": {},
     "output_type": "execute_result"
    }
   ],
   "source": [
    "get_memory_status()"
   ]
  },
  {
   "cell_type": "code",
   "execution_count": 14,
   "metadata": {},
   "outputs": [
    {
     "data": {
      "text/plain": [
       "(torch.Size([1, 4, 64, 64]),\n",
       " torch.Size([1, 4, 64, 64]),\n",
       " torch.Size([1, 4, 64, 64]))"
      ]
     },
     "execution_count": 14,
     "metadata": {},
     "output_type": "execute_result"
    }
   ],
   "source": [
    "encoded_img.std.shape, encoded_img.mean.shape, encoded_img.log_var.shape\n"
   ]
  },
  {
   "cell_type": "code",
   "execution_count": 15,
   "metadata": {},
   "outputs": [],
   "source": [
    "samples = encoded_img.sample(num_samples = 1)"
   ]
  },
  {
   "cell_type": "code",
   "execution_count": 16,
   "metadata": {},
   "outputs": [
    {
     "data": {
      "text/plain": [
       "torch.Size([2, 4, 64, 64])"
      ]
     },
     "execution_count": 16,
     "metadata": {},
     "output_type": "execute_result"
    }
   ],
   "source": [
    "samples.shape"
   ]
  },
  {
   "cell_type": "code",
   "execution_count": 17,
   "metadata": {},
   "outputs": [],
   "source": [
    "torch.save(samples, \"./scripts2/encoded_img_samples.pt\")"
   ]
  },
  {
   "cell_type": "code",
   "execution_count": 5,
   "metadata": {},
   "outputs": [
    {
     "name": "stdout",
     "output_type": "stream",
     "text": [
      "Free: 11086 MiB\n",
      "Total: 12287 MiB\n",
      "Used: 1201 MiB\n"
     ]
    },
    {
     "data": {
      "text/plain": [
       "(tensor(11086), tensor(12287))"
      ]
     },
     "execution_count": 5,
     "metadata": {},
     "output_type": "execute_result"
    }
   ],
   "source": [
    "get_memory_status()"
   ]
  },
  {
   "cell_type": "code",
   "execution_count": 19,
   "metadata": {},
   "outputs": [],
   "source": [
    "torch.save(encoded_img, \"./scripts2/encoding_distribution.ckpt\")"
   ]
  }
 ],
 "metadata": {
  "kernelspec": {
   "display_name": "kcg",
   "language": "python",
   "name": "python3"
  },
  "language_info": {
   "codemirror_mode": {
    "name": "ipython",
    "version": 3
   },
   "file_extension": ".py",
   "mimetype": "text/x-python",
   "name": "python",
   "nbconvert_exporter": "python",
   "pygments_lexer": "ipython3",
   "version": "3.10.9"
  },
  "orig_nbformat": 4
 },
 "nbformat": 4,
 "nbformat_minor": 2
}
