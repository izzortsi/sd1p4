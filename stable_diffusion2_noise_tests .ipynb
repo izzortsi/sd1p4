{
 "cells": [
  {
   "cell_type": "code",
   "execution_count": 1,
   "metadata": {},
   "outputs": [
    {
     "name": "stdout",
     "output_type": "stream",
     "text": [
      "INFO: Using CUDA device: NVIDIA GeForce RTX 3080 Ti\n"
     ]
    }
   ],
   "source": [
    "import os\n",
    "import sys\n",
    "import torch\n",
    "import time\n",
    "\n",
    "base_directory = \"../\"\n",
    "sys.path.insert(0, base_directory)\n",
    "\n",
    "output_directory = \"./output/noise-tests/sd2-notebook\"\n",
    "os.makedirs(output_directory, exist_ok=True)\n",
    "\n",
    "from stable_diffusion2.latent_diffusion import LatentDiffusion\n",
    "from stable_diffusion2.stable_diffusion import StableDiffusion\n",
    "from stable_diffusion2.utils.model import *\n",
    "from stable_diffusion2.utils.utils import SectionManager as section\n",
    "from stable_diffusion2.utils.utils import *\n",
    "from stable_diffusion2.model.clip.clip_embedder import CLIPTextEmbedder\n",
    "\n",
    "\n",
    "\n",
    "from stable_diffusion2.model.unet.unet import UNetModel\n",
    "\n",
    "from pathlib import Path\n",
    "from os.path import join\n",
    "\n",
    "device = get_device()"
   ]
  },
  {
   "cell_type": "code",
   "execution_count": 2,
   "metadata": {},
   "outputs": [
    {
     "name": "stdout",
     "output_type": "stream",
     "text": [
      "INFO: Using CUDA device 0: NVIDIA GeForce RTX 3080 Ti.\n"
     ]
    }
   ],
   "source": [
    "latent_diffusion_model = LatentDiffusion(linear_start=0.00085,\n",
    "            linear_end=0.0120,\n",
    "            n_steps=1000,\n",
    "            latent_scaling_factor=0.18215,\n",
    "            device = device)\n"
   ]
  },
  {
   "cell_type": "code",
   "execution_count": 3,
   "metadata": {},
   "outputs": [],
   "source": [
    "latent_diffusion_model.load_submodel_tree()"
   ]
  },
  {
   "cell_type": "code",
   "execution_count": 4,
   "metadata": {},
   "outputs": [
    {
     "name": "stdout",
     "output_type": "stream",
     "text": [
      "Total: 12287 MiB\n",
      "Free: 6932 MiB\n",
      "Used: 5355 MiB\n"
     ]
    },
    {
     "data": {
      "text/plain": [
       "(tensor(6932), tensor(12287))"
      ]
     },
     "execution_count": 4,
     "metadata": {},
     "output_type": "execute_result"
    }
   ],
   "source": [
    "get_memory_status()"
   ]
  },
  {
   "cell_type": "code",
   "execution_count": 5,
   "metadata": {},
   "outputs": [],
   "source": [
    "def logistic_distribution(loc, scale):\n",
    "    base_distribution = torch.distributions.Uniform(0, 1)\n",
    "    transforms = [torch.distributions.transforms.SigmoidTransform().inv, torch.distributions.transforms.AffineTransform(loc=loc, scale=scale)]\n",
    "    logistic = torch.distributions.TransformedDistribution(base_distribution, transforms)\n",
    "    return logistic\n",
    "noise_fn = lambda shape, device = device: logistic_distribution(loc=0.0, scale=0.5).sample(shape).to(device)"
   ]
  },
  {
   "cell_type": "code",
   "execution_count": 6,
   "metadata": {},
   "outputs": [
    {
     "name": "stdout",
     "output_type": "stream",
     "text": [
      "Total: 12287 MiB\n",
      "Free: 6932 MiB\n",
      "Used: 5355 MiB\n"
     ]
    },
    {
     "data": {
      "text/plain": [
       "(tensor(6932), tensor(12287))"
      ]
     },
     "execution_count": 6,
     "metadata": {},
     "output_type": "execute_result"
    }
   ],
   "source": [
    "get_memory_status()"
   ]
  },
  {
   "cell_type": "code",
   "execution_count": 7,
   "metadata": {},
   "outputs": [
    {
     "name": "stdout",
     "output_type": "stream",
     "text": [
      "INFO: Using CUDA device 0: NVIDIA GeForce RTX 3080 Ti.\n"
     ]
    }
   ],
   "source": [
    "ddim_eta = 0.00000\n",
    "stable_diffusion_model = StableDiffusion(device = device, ddim_eta=ddim_eta)\n",
    "stable_diffusion_model.initialize_from_model(latent_diffusion_model)"
   ]
  },
  {
   "cell_type": "code",
   "execution_count": 8,
   "metadata": {},
   "outputs": [
    {
     "name": "stdout",
     "output_type": "stream",
     "text": [
      "Total: 12287 MiB\n",
      "Free: 6478 MiB\n",
      "Used: 5809 MiB\n"
     ]
    },
    {
     "data": {
      "text/plain": [
       "(tensor(6478), tensor(12287))"
      ]
     },
     "execution_count": 8,
     "metadata": {},
     "output_type": "execute_result"
    }
   ],
   "source": [
    "get_memory_status()"
   ]
  },
  {
   "cell_type": "code",
   "execution_count": 9,
   "metadata": {},
   "outputs": [],
   "source": [
    "temperature = 1.0\n",
    "imgs = stable_diffusion_model.generate_images(\n",
    "    prompt = 'A woman with flowers in her hair in a courtyard, in the style of Frank Frazetta',\n",
    "    seed = 2982,\n",
    "    noise_fn = noise_fn,\n",
    "    temperature = temperature,\n",
    "    )\n",
    "\n",
    "save_images(imgs, join(output_directory, f'test_temp{temperature}_eta{ddim_eta:.3f}.png'))"
   ]
  },
  {
   "cell_type": "code",
   "execution_count": 10,
   "metadata": {},
   "outputs": [
    {
     "name": "stdout",
     "output_type": "stream",
     "text": [
      "Total: 12287 MiB\n",
      "Free: 2758 MiB\n",
      "Used: 9529 MiB\n"
     ]
    },
    {
     "data": {
      "text/plain": [
       "(tensor(2758), tensor(12287))"
      ]
     },
     "execution_count": 10,
     "metadata": {},
     "output_type": "execute_result"
    }
   ],
   "source": [
    "get_memory_status()"
   ]
  },
  {
   "cell_type": "code",
   "execution_count": 11,
   "metadata": {},
   "outputs": [],
   "source": [
    "del imgs\n",
    "torch.cuda.empty_cache()"
   ]
  },
  {
   "cell_type": "code",
   "execution_count": 12,
   "metadata": {},
   "outputs": [
    {
     "name": "stdout",
     "output_type": "stream",
     "text": [
      "Total: 12287 MiB\n",
      "Free: 5844 MiB\n",
      "Used: 6443 MiB\n"
     ]
    },
    {
     "data": {
      "text/plain": [
       "(tensor(5844), tensor(12287))"
      ]
     },
     "execution_count": 12,
     "metadata": {},
     "output_type": "execute_result"
    }
   ],
   "source": [
    "get_memory_status()"
   ]
  },
  {
   "cell_type": "code",
   "execution_count": 40,
   "metadata": {},
   "outputs": [],
   "source": [
    "ddim_eta = 0.1\n",
    "stable_diffusion_model.ddim_eta = ddim_eta"
   ]
  },
  {
   "cell_type": "code",
   "execution_count": 41,
   "metadata": {},
   "outputs": [
    {
     "name": "stdout",
     "output_type": "stream",
     "text": [
      "Free: 5714 MiB\n",
      "Total: 12287 MiB\n",
      "Used: 6573 MiB\n"
     ]
    },
    {
     "data": {
      "text/plain": [
       "(tensor(5714), tensor(12287))"
      ]
     },
     "execution_count": 41,
     "metadata": {},
     "output_type": "execute_result"
    }
   ],
   "source": [
    "get_memory_status()"
   ]
  },
  {
   "cell_type": "code",
   "execution_count": 42,
   "metadata": {},
   "outputs": [],
   "source": [
    "temperature = 1.0\n",
    "imgs = stable_diffusion_model.generate_images(\n",
    "    prompt = 'A woman with flowers in her hair in a courtyard, in the style of Frank Frazetta',\n",
    "    seed = 2982,\n",
    "    noise_fn = noise_fn,\n",
    "    temperature = temperature,\n",
    "    )\n",
    "\n",
    "save_images(imgs, join(output_directory, f'test_temp{temperature}_eta{ddim_eta:.3f}.png'))"
   ]
  },
  {
   "cell_type": "code",
   "execution_count": 44,
   "metadata": {},
   "outputs": [
    {
     "name": "stdout",
     "output_type": "stream",
     "text": [
      "Free: 5714 MiB\n",
      "Total: 12287 MiB\n",
      "Used: 6573 MiB\n",
      "(tensor(5714), tensor(12287))\n"
     ]
    },
    {
     "ename": "NameError",
     "evalue": "name 'imgs' is not defined",
     "output_type": "error",
     "traceback": [
      "\u001b[1;31m---------------------------------------------------------------------------\u001b[0m",
      "\u001b[1;31mNameError\u001b[0m                                 Traceback (most recent call last)",
      "Cell \u001b[1;32mIn[44], line 2\u001b[0m\n\u001b[0;32m      1\u001b[0m \u001b[39mprint\u001b[39m(get_memory_status())\n\u001b[1;32m----> 2\u001b[0m \u001b[39mdel\u001b[39;00m imgs\n\u001b[0;32m      3\u001b[0m torch\u001b[39m.\u001b[39mcuda\u001b[39m.\u001b[39mempty_cache()\n\u001b[0;32m      4\u001b[0m \u001b[39mprint\u001b[39m(get_memory_status())\n",
      "\u001b[1;31mNameError\u001b[0m: name 'imgs' is not defined"
     ]
    }
   ],
   "source": [
    "print(get_memory_status())\n",
    "del imgs\n",
    "torch.cuda.empty_cache()\n",
    "print(get_memory_status())"
   ]
  },
  {
   "cell_type": "code",
   "execution_count": 46,
   "metadata": {},
   "outputs": [],
   "source": [
    "temperature = 1.0\n",
    "images = []\n",
    "for i in range(4):\n",
    "    ddim_eta = 0.1 + i * 0.1\n",
    "    stable_diffusion_model.ddim_eta = ddim_eta\n",
    "    imgs = stable_diffusion_model.generate_images(\n",
    "        prompt = 'A woman with flowers in her hair in a courtyard, in the style of Frank Frazetta',\n",
    "        seed = 2982,\n",
    "        noise_fn = noise_fn,\n",
    "        temperature = temperature,\n",
    "        )\n",
    "    save_images(imgs, join(output_directory, f'test_temp{temperature}_eta{ddim_eta:.3f}.png'))\n",
    "    images.append(imgs)"
   ]
  },
  {
   "cell_type": "code",
   "execution_count": null,
   "metadata": {},
   "outputs": [],
   "source": [
    "print(get_memory_status())\n",
    "del imgs\n",
    "torch.cuda.empty_cache()\n",
    "print(get_memory_status())"
   ]
  },
  {
   "cell_type": "code",
   "execution_count": 51,
   "metadata": {},
   "outputs": [
    {
     "name": "stdout",
     "output_type": "stream",
     "text": [
      "Free: 4626 MiB\n",
      "Total: 12287 MiB\n",
      "Used: 7661 MiB\n",
      "(tensor(4626), tensor(12287))\n"
     ]
    },
    {
     "ename": "NameError",
     "evalue": "name 'images' is not defined",
     "output_type": "error",
     "traceback": [
      "\u001b[1;31m---------------------------------------------------------------------------\u001b[0m",
      "\u001b[1;31mNameError\u001b[0m                                 Traceback (most recent call last)",
      "Cell \u001b[1;32mIn[51], line 2\u001b[0m\n\u001b[0;32m      1\u001b[0m \u001b[39mprint\u001b[39m(get_memory_status())\n\u001b[1;32m----> 2\u001b[0m \u001b[39mdel\u001b[39;00m images\n\u001b[0;32m      3\u001b[0m torch\u001b[39m.\u001b[39mcuda\u001b[39m.\u001b[39mempty_cache()\n\u001b[0;32m      4\u001b[0m \u001b[39mprint\u001b[39m(get_memory_status())\n",
      "\u001b[1;31mNameError\u001b[0m: name 'images' is not defined"
     ]
    }
   ],
   "source": [
    "print(get_memory_status())\n",
    "del images\n",
    "torch.cuda.empty_cache()\n",
    "print(get_memory_status())"
   ]
  },
  {
   "cell_type": "code",
   "execution_count": 15,
   "metadata": {},
   "outputs": [],
   "source": [
    "temperature = 1.0\n",
    "images = []\n",
    "for i in range(4):\n",
    "    temperature += 0.1\n",
    "    imgs = stable_diffusion_model.generate_images(\n",
    "        prompt = 'A woman with flowers in her hair in a courtyard, in the style of Frank Frazetta',\n",
    "        seed = 2982,\n",
    "        noise_fn = noise_fn,\n",
    "        temperature = temperature,\n",
    "        )\n",
    "    save_images(imgs, join(output_directory, f'test_temp{temperature}_eta{ddim_eta:.3f}.png'))\n",
    "    images.append(imgs)"
   ]
  }
 ],
 "metadata": {
  "kernelspec": {
   "display_name": "kcg",
   "language": "python",
   "name": "python3"
  },
  "language_info": {
   "codemirror_mode": {
    "name": "ipython",
    "version": 3
   },
   "file_extension": ".py",
   "mimetype": "text/x-python",
   "name": "python",
   "nbconvert_exporter": "python",
   "pygments_lexer": "ipython3",
   "version": "3.10.9"
  },
  "orig_nbformat": 4
 },
 "nbformat": 4,
 "nbformat_minor": 2
}
