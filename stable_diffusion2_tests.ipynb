{
 "cells": [
  {
   "cell_type": "code",
   "execution_count": 1,
   "metadata": {},
   "outputs": [],
   "source": [
    "import os\n",
    "import sys\n",
    "import torch\n",
    "import time\n",
    "\n",
    "base_directory = \"../\"\n",
    "sys.path.insert(0, base_directory)\n",
    "\n",
    "from stable_diffusion2.latent_diffusion import LatentDiffusion\n",
    "from stable_diffusion2.stable_diffusion import StableDiffusion\n",
    "from stable_diffusion2.utils.model import *\n",
    "from stable_diffusion2.utils.utils import SectionManager as section\n",
    "from stable_diffusion2.utils.utils import *\n",
    "from stable_diffusion2.model.clip.clip_embedder import CLIPTextEmbedder\n",
    "\n",
    "\n",
    "\n",
    "from stable_diffusion2.model.unet.unet import UNetModel\n",
    "\n",
    "from pathlib import Path"
   ]
  },
  {
   "cell_type": "code",
   "execution_count": 6,
   "metadata": {},
   "outputs": [],
   "source": [
    "CHECKPOINT_PATH = os.path.abspath('../input/model/v1-5-pruned-emaonly.ckpt')\n",
    "\n",
    "EMBEDDER_PATH = os.path.abspath('../input/model/clip/clip_embedder.ckpt')\n",
    "TOKENIZER_PATH = os.path.abspath('../input/model/clip/clip_tokenizer.ckpt')\n",
    "TRANSFORMER_PATH = os.path.abspath('../input/model/clip/clip_transformer.ckpt')\n",
    "\n",
    "UNET_PATH = os.path.abspath('../input/model/unet/unet.ckpt')\n",
    "\n",
    "AUTOENCODER_PATH = os.path.abspath('../input/model/autoencoder/autoencoder.ckpt')\n",
    "ENCODER_PATH = os.path.abspath('../input/model/autoencoder/encoder.ckpt')\n",
    "DECODER_PATH = os.path.abspath('../input/model/autoencoder/decoder.ckpt')\n",
    "\n",
    "LATENT_DIFFUSION_PATH = os.path.abspath('../input/model/latent_diffusion/latent_diffusion.ckpt')"
   ]
  },
  {
   "cell_type": "code",
   "execution_count": 7,
   "metadata": {},
   "outputs": [
    {
     "name": "stdout",
     "output_type": "stream",
     "text": [
      "INFO: Using CUDA device: NVIDIA GeForce RTX 3080 Ti\n"
     ]
    }
   ],
   "source": [
    "device = get_device()\n",
    "latent_diffusion_model = LatentDiffusion(linear_start=0.00085,\n",
    "            linear_end=0.0120,\n",
    "            n_steps=1000,\n",
    "            latent_scaling_factor=0.18215\n",
    "            ).to(device)\n",
    "latent_diffusion_model.load_submodel_tree(device = device)"
   ]
  },
  {
   "cell_type": "code",
   "execution_count": 14,
   "metadata": {},
   "outputs": [],
   "source": [
    "@torch.no_grad()\n",
    "def generate_images(self, *,\n",
    "             seed: int = 0,\n",
    "             batch_size: int = 1,\n",
    "             prompt: str,\n",
    "             h: int = 512, w: int = 512,\n",
    "             uncond_scale: float = 7.5,\n",
    "             low_vram: bool = False,\n",
    "             noise_fn = torch.randn,\n",
    "             temperature: float = 1.0,\n",
    "             ):\n",
    "    \"\"\"\n",
    "    :param seed: the seed to use when generating the images\n",
    "    :param dest_path: is the path to store the generated images\n",
    "    :param batch_size: is the number of images to generate in a batch\n",
    "    :param prompt: is the prompt to generate images with\n",
    "    :param h: is the height of the image\n",
    "    :param w: is the width of the image\n",
    "    :param uncond_scale: is the unconditional guidance scale $s$. This is used for\n",
    "        $\\epsilon_\\theta(x_t, c) = s\\epsilon_\\text{cond}(x_t, c) + (s - 1)\\epsilon_\\text{cond}(x_t, c_u)$\n",
    "    :param low_vram: whether to limit VRAM usage\n",
    "    \"\"\"\n",
    "    # Number of channels in the image\n",
    "    c = 4\n",
    "    # Image to latent space resolution reduction\n",
    "    f = 8\n",
    "    if seed == 0:\n",
    "        seed = time.time_ns() % 2**32\n",
    "    set_seed(seed)\n",
    "    # Adjust batch size based on VRAM availability\n",
    "    if low_vram:\n",
    "        batch_size = 1\n",
    "    # Make a batch of prompts\n",
    "    prompts = batch_size * [prompt]\n",
    "    # AMP auto casting\n",
    "    autocast = get_autocast()\n",
    "    with autocast:\n",
    "        un_cond, cond = self.get_text_conditioning(uncond_scale, prompts, batch_size)\n",
    "        # [Sample in the latent space](../sampler/index.html).\n",
    "        # `x` will be of shape `[batch_size, c, h / f, w / f]`\n",
    "        x = self.sampler.sample(cond=cond,\n",
    "                                shape=[batch_size, c, h // f, w // f],\n",
    "                                uncond_scale=uncond_scale,\n",
    "                                uncond_cond=un_cond,\n",
    "                                noise_fn=noise_fn,\n",
    "                                temperature=temperature)\n",
    "        return self.decode_image(x)"
   ]
  },
  {
   "cell_type": "code",
   "execution_count": 15,
   "metadata": {},
   "outputs": [
    {
     "name": "stdout",
     "output_type": "stream",
     "text": [
      "INFO: Using CUDA device: NVIDIA GeForce RTX 3080 Ti\n"
     ]
    }
   ],
   "source": [
    "StableDiffusionModel.generate_images = generate_images\n",
    "stable_diffusion_model = StableDiffusionModel()\n",
    "stable_diffusion_model.initialize_from_model(latent_diffusion_model)"
   ]
  },
  {
   "cell_type": "code",
   "execution_count": 16,
   "metadata": {},
   "outputs": [],
   "source": [
    "def logistic_distribution(loc, scale):\n",
    "    base_distribution = torch.distributions.Uniform(0, 1)\n",
    "    transforms = [torch.distributions.transforms.SigmoidTransform().inv, torch.distributions.transforms.AffineTransform(loc=loc, scale=scale)]\n",
    "    logistic = torch.distributions.TransformedDistribution(base_distribution, transforms)\n",
    "    return logistic\n",
    "noise_fn = lambda shape, device = device: logistic_distribution(loc=0.0, scale=0.49000000953674316).sample(shape).to(device)"
   ]
  },
  {
   "cell_type": "code",
   "execution_count": 17,
   "metadata": {},
   "outputs": [
    {
     "name": "stdout",
     "output_type": "stream",
     "text": [
      "['A woman with flowers in her hair in a courtyard, in the style of Frank Frazetta']\n"
     ]
    },
    {
     "data": {
      "application/vnd.jupyter.widget-view+json": {
       "model_id": "4e67893feebd4e098c1b7b559890d416",
       "version_major": 2,
       "version_minor": 0
      },
      "text/plain": [
       "HTML(value='<pre  style=\"overflow-x: scroll;\">Sample...</pre>')"
      ]
     },
     "metadata": {},
     "output_type": "display_data"
    }
   ],
   "source": [
    "imgs = stable_diffusion_model.generate_images(\n",
    "    prompt = 'A woman with flowers in her hair in a courtyard, in the style of Frank Frazetta',\n",
    "    seed = 2982,\n",
    "    noise_fn = noise_fn\n",
    "    )\n",
    "\n",
    "save_images(imgs, 'test.png')"
   ]
  },
  {
   "cell_type": "code",
   "execution_count": 10,
   "metadata": {},
   "outputs": [],
   "source": [
    "from scripts2.stable_diffusion_base_script import StableDiffusionBaseScript\n",
    "class Txt2Img(StableDiffusionBaseScript):\n",
    "    \"\"\"\n",
    "    ### Text to image class\n",
    "    \"\"\"\n",
    "\n",
    "\n",
    "    @torch.no_grad()\n",
    "    def generate_images(self, *,\n",
    "                 seed: int = 0,\n",
    "                 batch_size: int = 1,\n",
    "                 prompt: str,\n",
    "                 h: int = 512, w: int = 512,\n",
    "                 uncond_scale: float = 7.5,\n",
    "                 low_vram: bool = False,\n",
    "                 noise_fn = torch.randn,\n",
    "                 temperature: float = 1.0,\n",
    "                 ):\n",
    "        \"\"\"\n",
    "        :param seed: the seed to use when generating the images\n",
    "        :param dest_path: is the path to store the generated images\n",
    "        :param batch_size: is the number of images to generate in a batch\n",
    "        :param prompt: is the prompt to generate images with\n",
    "        :param h: is the height of the image\n",
    "        :param w: is the width of the image\n",
    "        :param uncond_scale: is the unconditional guidance scale $s$. This is used for\n",
    "            $\\epsilon_\\theta(x_t, c) = s\\epsilon_\\text{cond}(x_t, c) + (s - 1)\\epsilon_\\text{cond}(x_t, c_u)$\n",
    "        :param low_vram: whether to limit VRAM usage\n",
    "        \"\"\"\n",
    "        # Number of channels in the image\n",
    "        c = 4\n",
    "        # Image to latent space resolution reduction\n",
    "        f = 8\n",
    "\n",
    "        if seed == 0:\n",
    "            seed = time.time_ns() % 2**32\n",
    "\n",
    "        set_seed(seed)\n",
    "        # Adjust batch size based on VRAM availability\n",
    "        if low_vram:\n",
    "            batch_size = 1\n",
    "\n",
    "        # Make a batch of prompts\n",
    "        prompts = batch_size * [prompt]\n",
    "\n",
    "        # AMP auto casting\n",
    "        autocast = get_autocast()\n",
    "        with autocast:\n",
    "            un_cond, cond = self.get_text_conditioning(uncond_scale, prompts, batch_size)\n",
    "\n",
    "            # [Sample in the latent space](../sampler/index.html).\n",
    "            # `x` will be of shape `[batch_size, c, h / f, w / f]`\n",
    "            x = self.sampler.sample(cond=cond,\n",
    "                                    shape=[batch_size, c, h // f, w // f],\n",
    "                                    uncond_scale=uncond_scale,\n",
    "                                    uncond_cond=un_cond,\n",
    "                                    noise_fn=noise_fn,\n",
    "                                    temperature=temperature)\n",
    "\n",
    "            return self.decode_image(x)"
   ]
  },
  {
   "cell_type": "code",
   "execution_count": 11,
   "metadata": {},
   "outputs": [
    {
     "name": "stdout",
     "output_type": "stream",
     "text": [
      "INFO: Using CUDA device: NVIDIA GeForce RTX 3080 Ti\n"
     ]
    }
   ],
   "source": [
    "txt2img = Txt2Img(checkpoint_path=None)\n",
    "txt2img.initialize_from_model(latent_diffusion_model)\n"
   ]
  },
  {
   "cell_type": "code",
   "execution_count": 12,
   "metadata": {},
   "outputs": [
    {
     "name": "stdout",
     "output_type": "stream",
     "text": [
      "['A woman with flowers in her hair in a courtyard, in the style of Frank Frazetta']\n"
     ]
    },
    {
     "data": {
      "application/vnd.jupyter.widget-view+json": {
       "model_id": "b2163f2ae76646e5862edd2e67031e6a",
       "version_major": 2,
       "version_minor": 0
      },
      "text/plain": [
       "HTML(value='<pre  style=\"overflow-x: scroll;\">Sample...</pre>')"
      ]
     },
     "metadata": {},
     "output_type": "display_data"
    }
   ],
   "source": [
    "imgs = txt2img.generate_images(\n",
    "    prompt = 'A woman with flowers in her hair in a courtyard, in the style of Frank Frazetta',\n",
    "    seed = 2982,\n",
    "    noise_fn = noise_fn\n",
    "    )\n",
    "\n",
    "save_images(imgs, 'test.png')"
   ]
  },
  {
   "cell_type": "code",
   "execution_count": 6,
   "metadata": {},
   "outputs": [],
   "source": [
    "img = load_img(\"./scripts2/test_img.jpg\").to(device)"
   ]
  },
  {
   "cell_type": "code",
   "execution_count": 7,
   "metadata": {},
   "outputs": [],
   "source": [
    "encoded_img = latent_diffusion_model.autoencoder_encode(img)"
   ]
  },
  {
   "cell_type": "code",
   "execution_count": 8,
   "metadata": {},
   "outputs": [
    {
     "ename": "OutOfMemoryError",
     "evalue": "CUDA out of memory. Tried to allocate 64.00 MiB (GPU 0; 12.00 GiB total capacity; 11.01 GiB already allocated; 0 bytes free; 11.23 GiB reserved in total by PyTorch) If reserved memory is >> allocated memory try setting max_split_size_mb to avoid fragmentation.  See documentation for Memory Management and PYTORCH_CUDA_ALLOC_CONF",
     "output_type": "error",
     "traceback": [
      "\u001b[1;31m---------------------------------------------------------------------------\u001b[0m",
      "\u001b[1;31mOutOfMemoryError\u001b[0m                          Traceback (most recent call last)",
      "Cell \u001b[1;32mIn[8], line 1\u001b[0m\n\u001b[1;32m----> 1\u001b[0m decoded_img \u001b[39m=\u001b[39m latent_diffusion_model\u001b[39m.\u001b[39;49mautoencoder_decode(encoded_img)\n",
      "File \u001b[1;32mc:\\Users\\igor-\\.cloned\\kcg-ml-sd1p4\\stable_diffusion2\\latent_diffusion_model.py:209\u001b[0m, in \u001b[0;36mLatentDiffusionModel.autoencoder_decode\u001b[1;34m(self, z)\u001b[0m\n\u001b[0;32m    203\u001b[0m \u001b[39mdef\u001b[39;00m \u001b[39mautoencoder_decode\u001b[39m(\u001b[39mself\u001b[39m, z: torch\u001b[39m.\u001b[39mTensor):\n\u001b[0;32m    204\u001b[0m \u001b[39m    \u001b[39m\u001b[39m\"\"\"\u001b[39;00m\n\u001b[0;32m    205\u001b[0m \u001b[39m    ### Get image from the latent representation\u001b[39;00m\n\u001b[0;32m    206\u001b[0m \n\u001b[0;32m    207\u001b[0m \u001b[39m    We scale down by the scaling factor and then decode.\u001b[39;00m\n\u001b[0;32m    208\u001b[0m \u001b[39m    \"\"\"\u001b[39;00m\n\u001b[1;32m--> 209\u001b[0m     \u001b[39mreturn\u001b[39;00m \u001b[39mself\u001b[39;49m\u001b[39m.\u001b[39;49mfirst_stage_model\u001b[39m.\u001b[39;49mdecode(z \u001b[39m/\u001b[39;49m \u001b[39mself\u001b[39;49m\u001b[39m.\u001b[39;49mlatent_scaling_factor)\n",
      "File \u001b[1;32mc:\\Users\\igor-\\.cloned\\kcg-ml-sd1p4\\stable_diffusion2\\model\\vae\\autoencoder.py:136\u001b[0m, in \u001b[0;36mAutoencoder.decode\u001b[1;34m(self, z)\u001b[0m\n\u001b[0;32m    134\u001b[0m z \u001b[39m=\u001b[39m \u001b[39mself\u001b[39m\u001b[39m.\u001b[39mpost_quant_conv(z)\n\u001b[0;32m    135\u001b[0m \u001b[39m# Decode the image of shape `[batch_size, channels, height, width]`\u001b[39;00m\n\u001b[1;32m--> 136\u001b[0m \u001b[39mreturn\u001b[39;00m \u001b[39mself\u001b[39;49m\u001b[39m.\u001b[39;49mdecoder(z)\n",
      "File \u001b[1;32mc:\\Users\\igor-\\anaconda3\\envs\\kcg\\lib\\site-packages\\torch\\nn\\modules\\module.py:1501\u001b[0m, in \u001b[0;36mModule._call_impl\u001b[1;34m(self, *args, **kwargs)\u001b[0m\n\u001b[0;32m   1496\u001b[0m \u001b[39m# If we don't have any hooks, we want to skip the rest of the logic in\u001b[39;00m\n\u001b[0;32m   1497\u001b[0m \u001b[39m# this function, and just call forward.\u001b[39;00m\n\u001b[0;32m   1498\u001b[0m \u001b[39mif\u001b[39;00m \u001b[39mnot\u001b[39;00m (\u001b[39mself\u001b[39m\u001b[39m.\u001b[39m_backward_hooks \u001b[39mor\u001b[39;00m \u001b[39mself\u001b[39m\u001b[39m.\u001b[39m_backward_pre_hooks \u001b[39mor\u001b[39;00m \u001b[39mself\u001b[39m\u001b[39m.\u001b[39m_forward_hooks \u001b[39mor\u001b[39;00m \u001b[39mself\u001b[39m\u001b[39m.\u001b[39m_forward_pre_hooks\n\u001b[0;32m   1499\u001b[0m         \u001b[39mor\u001b[39;00m _global_backward_pre_hooks \u001b[39mor\u001b[39;00m _global_backward_hooks\n\u001b[0;32m   1500\u001b[0m         \u001b[39mor\u001b[39;00m _global_forward_hooks \u001b[39mor\u001b[39;00m _global_forward_pre_hooks):\n\u001b[1;32m-> 1501\u001b[0m     \u001b[39mreturn\u001b[39;00m forward_call(\u001b[39m*\u001b[39margs, \u001b[39m*\u001b[39m\u001b[39m*\u001b[39mkwargs)\n\u001b[0;32m   1502\u001b[0m \u001b[39m# Do not call functions when jit is used\u001b[39;00m\n\u001b[0;32m   1503\u001b[0m full_backward_hooks, non_full_backward_hooks \u001b[39m=\u001b[39m [], []\n",
      "File \u001b[1;32mc:\\Users\\igor-\\.cloned\\kcg-ml-sd1p4\\stable_diffusion2\\model\\vae\\decoder.py:110\u001b[0m, in \u001b[0;36mDecoder.forward\u001b[1;34m(self, z)\u001b[0m\n\u001b[0;32m    107\u001b[0m \u001b[39mfor\u001b[39;00m up \u001b[39min\u001b[39;00m \u001b[39mreversed\u001b[39m(\u001b[39mself\u001b[39m\u001b[39m.\u001b[39mup):\n\u001b[0;32m    108\u001b[0m     \u001b[39m# ResNet Blocks\u001b[39;00m\n\u001b[0;32m    109\u001b[0m     \u001b[39mfor\u001b[39;00m block \u001b[39min\u001b[39;00m up\u001b[39m.\u001b[39mblock:\n\u001b[1;32m--> 110\u001b[0m         h \u001b[39m=\u001b[39m block(h)\n\u001b[0;32m    111\u001b[0m     \u001b[39m# Up-sampling\u001b[39;00m\n\u001b[0;32m    112\u001b[0m     h \u001b[39m=\u001b[39m up\u001b[39m.\u001b[39mupsample(h)\n",
      "File \u001b[1;32mc:\\Users\\igor-\\anaconda3\\envs\\kcg\\lib\\site-packages\\torch\\nn\\modules\\module.py:1501\u001b[0m, in \u001b[0;36mModule._call_impl\u001b[1;34m(self, *args, **kwargs)\u001b[0m\n\u001b[0;32m   1496\u001b[0m \u001b[39m# If we don't have any hooks, we want to skip the rest of the logic in\u001b[39;00m\n\u001b[0;32m   1497\u001b[0m \u001b[39m# this function, and just call forward.\u001b[39;00m\n\u001b[0;32m   1498\u001b[0m \u001b[39mif\u001b[39;00m \u001b[39mnot\u001b[39;00m (\u001b[39mself\u001b[39m\u001b[39m.\u001b[39m_backward_hooks \u001b[39mor\u001b[39;00m \u001b[39mself\u001b[39m\u001b[39m.\u001b[39m_backward_pre_hooks \u001b[39mor\u001b[39;00m \u001b[39mself\u001b[39m\u001b[39m.\u001b[39m_forward_hooks \u001b[39mor\u001b[39;00m \u001b[39mself\u001b[39m\u001b[39m.\u001b[39m_forward_pre_hooks\n\u001b[0;32m   1499\u001b[0m         \u001b[39mor\u001b[39;00m _global_backward_pre_hooks \u001b[39mor\u001b[39;00m _global_backward_hooks\n\u001b[0;32m   1500\u001b[0m         \u001b[39mor\u001b[39;00m _global_forward_hooks \u001b[39mor\u001b[39;00m _global_forward_pre_hooks):\n\u001b[1;32m-> 1501\u001b[0m     \u001b[39mreturn\u001b[39;00m forward_call(\u001b[39m*\u001b[39margs, \u001b[39m*\u001b[39m\u001b[39m*\u001b[39mkwargs)\n\u001b[0;32m   1502\u001b[0m \u001b[39m# Do not call functions when jit is used\u001b[39;00m\n\u001b[0;32m   1503\u001b[0m full_backward_hooks, non_full_backward_hooks \u001b[39m=\u001b[39m [], []\n",
      "File \u001b[1;32mc:\\Users\\igor-\\.cloned\\kcg-ml-sd1p4\\stable_diffusion2\\model\\vae\\auxiliary_classes.py:166\u001b[0m, in \u001b[0;36mResnetBlock.forward\u001b[1;34m(self, x)\u001b[0m\n\u001b[0;32m    164\u001b[0m h \u001b[39m=\u001b[39m \u001b[39mself\u001b[39m\u001b[39m.\u001b[39mnorm2(h)\n\u001b[0;32m    165\u001b[0m h \u001b[39m=\u001b[39m swish(h)\n\u001b[1;32m--> 166\u001b[0m h \u001b[39m=\u001b[39m \u001b[39mself\u001b[39;49m\u001b[39m.\u001b[39;49mconv2(h)\n\u001b[0;32m    168\u001b[0m \u001b[39m# Map and add residual\u001b[39;00m\n\u001b[0;32m    169\u001b[0m \u001b[39mreturn\u001b[39;00m \u001b[39mself\u001b[39m\u001b[39m.\u001b[39mnin_shortcut(x) \u001b[39m+\u001b[39m h\n",
      "File \u001b[1;32mc:\\Users\\igor-\\anaconda3\\envs\\kcg\\lib\\site-packages\\torch\\nn\\modules\\module.py:1501\u001b[0m, in \u001b[0;36mModule._call_impl\u001b[1;34m(self, *args, **kwargs)\u001b[0m\n\u001b[0;32m   1496\u001b[0m \u001b[39m# If we don't have any hooks, we want to skip the rest of the logic in\u001b[39;00m\n\u001b[0;32m   1497\u001b[0m \u001b[39m# this function, and just call forward.\u001b[39;00m\n\u001b[0;32m   1498\u001b[0m \u001b[39mif\u001b[39;00m \u001b[39mnot\u001b[39;00m (\u001b[39mself\u001b[39m\u001b[39m.\u001b[39m_backward_hooks \u001b[39mor\u001b[39;00m \u001b[39mself\u001b[39m\u001b[39m.\u001b[39m_backward_pre_hooks \u001b[39mor\u001b[39;00m \u001b[39mself\u001b[39m\u001b[39m.\u001b[39m_forward_hooks \u001b[39mor\u001b[39;00m \u001b[39mself\u001b[39m\u001b[39m.\u001b[39m_forward_pre_hooks\n\u001b[0;32m   1499\u001b[0m         \u001b[39mor\u001b[39;00m _global_backward_pre_hooks \u001b[39mor\u001b[39;00m _global_backward_hooks\n\u001b[0;32m   1500\u001b[0m         \u001b[39mor\u001b[39;00m _global_forward_hooks \u001b[39mor\u001b[39;00m _global_forward_pre_hooks):\n\u001b[1;32m-> 1501\u001b[0m     \u001b[39mreturn\u001b[39;00m forward_call(\u001b[39m*\u001b[39margs, \u001b[39m*\u001b[39m\u001b[39m*\u001b[39mkwargs)\n\u001b[0;32m   1502\u001b[0m \u001b[39m# Do not call functions when jit is used\u001b[39;00m\n\u001b[0;32m   1503\u001b[0m full_backward_hooks, non_full_backward_hooks \u001b[39m=\u001b[39m [], []\n",
      "File \u001b[1;32mc:\\Users\\igor-\\anaconda3\\envs\\kcg\\lib\\site-packages\\torch\\nn\\modules\\conv.py:463\u001b[0m, in \u001b[0;36mConv2d.forward\u001b[1;34m(self, input)\u001b[0m\n\u001b[0;32m    462\u001b[0m \u001b[39mdef\u001b[39;00m \u001b[39mforward\u001b[39m(\u001b[39mself\u001b[39m, \u001b[39minput\u001b[39m: Tensor) \u001b[39m-\u001b[39m\u001b[39m>\u001b[39m Tensor:\n\u001b[1;32m--> 463\u001b[0m     \u001b[39mreturn\u001b[39;00m \u001b[39mself\u001b[39;49m\u001b[39m.\u001b[39;49m_conv_forward(\u001b[39minput\u001b[39;49m, \u001b[39mself\u001b[39;49m\u001b[39m.\u001b[39;49mweight, \u001b[39mself\u001b[39;49m\u001b[39m.\u001b[39;49mbias)\n",
      "File \u001b[1;32mc:\\Users\\igor-\\anaconda3\\envs\\kcg\\lib\\site-packages\\torch\\nn\\modules\\conv.py:459\u001b[0m, in \u001b[0;36mConv2d._conv_forward\u001b[1;34m(self, input, weight, bias)\u001b[0m\n\u001b[0;32m    455\u001b[0m \u001b[39mif\u001b[39;00m \u001b[39mself\u001b[39m\u001b[39m.\u001b[39mpadding_mode \u001b[39m!=\u001b[39m \u001b[39m'\u001b[39m\u001b[39mzeros\u001b[39m\u001b[39m'\u001b[39m:\n\u001b[0;32m    456\u001b[0m     \u001b[39mreturn\u001b[39;00m F\u001b[39m.\u001b[39mconv2d(F\u001b[39m.\u001b[39mpad(\u001b[39minput\u001b[39m, \u001b[39mself\u001b[39m\u001b[39m.\u001b[39m_reversed_padding_repeated_twice, mode\u001b[39m=\u001b[39m\u001b[39mself\u001b[39m\u001b[39m.\u001b[39mpadding_mode),\n\u001b[0;32m    457\u001b[0m                     weight, bias, \u001b[39mself\u001b[39m\u001b[39m.\u001b[39mstride,\n\u001b[0;32m    458\u001b[0m                     _pair(\u001b[39m0\u001b[39m), \u001b[39mself\u001b[39m\u001b[39m.\u001b[39mdilation, \u001b[39mself\u001b[39m\u001b[39m.\u001b[39mgroups)\n\u001b[1;32m--> 459\u001b[0m \u001b[39mreturn\u001b[39;00m F\u001b[39m.\u001b[39;49mconv2d(\u001b[39minput\u001b[39;49m, weight, bias, \u001b[39mself\u001b[39;49m\u001b[39m.\u001b[39;49mstride,\n\u001b[0;32m    460\u001b[0m                 \u001b[39mself\u001b[39;49m\u001b[39m.\u001b[39;49mpadding, \u001b[39mself\u001b[39;49m\u001b[39m.\u001b[39;49mdilation, \u001b[39mself\u001b[39;49m\u001b[39m.\u001b[39;49mgroups)\n",
      "\u001b[1;31mOutOfMemoryError\u001b[0m: CUDA out of memory. Tried to allocate 64.00 MiB (GPU 0; 12.00 GiB total capacity; 11.01 GiB already allocated; 0 bytes free; 11.23 GiB reserved in total by PyTorch) If reserved memory is >> allocated memory try setting max_split_size_mb to avoid fragmentation.  See documentation for Memory Management and PYTORCH_CUDA_ALLOC_CONF"
     ]
    }
   ],
   "source": [
    "decoded_img = latent_diffusion_model.autoencoder_decode(encoded_img)"
   ]
  },
  {
   "cell_type": "code",
   "execution_count": 1,
   "metadata": {},
   "outputs": [],
   "source": [
    "import os\n",
    "import sys\n",
    "import torch\n",
    "import time\n",
    "\n",
    "base_directory = \"../\"\n",
    "sys.path.insert(0, base_directory)\n",
    "\n",
    "from stable_diffusion2.latent_diffusion import LatentDiffusion\n",
    "from stable_diffusion2.stable_diffusion import StableDiffusion\n",
    "from stable_diffusion2.utils.model import *\n",
    "from stable_diffusion2.utils.utils import SectionManager as section\n",
    "from stable_diffusion2.utils.utils import *\n",
    "from stable_diffusion2.model.clip.clip_embedder import CLIPTextEmbedder\n",
    "\n",
    "\n",
    "\n",
    "from stable_diffusion2.model.unet.unet import UNetModel\n",
    "\n",
    "from pathlib import Path"
   ]
  },
  {
   "cell_type": "code",
   "execution_count": 2,
   "metadata": {},
   "outputs": [
    {
     "name": "stdout",
     "output_type": "stream",
     "text": [
      "INFO: `device` is None. Falling back to current device.\n",
      "INFO: Using CUDA device 0: NVIDIA GeForce RTX 3080 Ti.\n",
      "Starting section: encoder initialization...\n",
      "INFO: Using CUDA device 0: NVIDIA GeForce RTX 3080 Ti.\n",
      "Finished section: encoder initialization in 0.27 seconds\n",
      "\n",
      "Starting section: decoder initialization...\n",
      "INFO: Using CUDA device 0: NVIDIA GeForce RTX 3080 Ti.\n",
      "Finished section: decoder initialization in 0.27 seconds\n",
      "\n"
     ]
    }
   ],
   "source": [
    "device = check_device()\n",
    "encoder = initialize_encoder(device = device)\n",
    "decoder = initialize_decoder(device = device)"
   ]
  },
  {
   "cell_type": "code",
   "execution_count": 3,
   "metadata": {},
   "outputs": [
    {
     "name": "stdout",
     "output_type": "stream",
     "text": [
      "Free: 10730 MiB\n",
      "Total: 12287 MiB\n",
      "Used: 1557 MiB\n"
     ]
    },
    {
     "data": {
      "text/plain": [
       "(tensor(10730), tensor(12287))"
      ]
     },
     "execution_count": 3,
     "metadata": {},
     "output_type": "execute_result"
    }
   ],
   "source": [
    "get_memory_status()"
   ]
  },
  {
   "cell_type": "code",
   "execution_count": 4,
   "metadata": {},
   "outputs": [
    {
     "name": "stdout",
     "output_type": "stream",
     "text": [
      "Starting section: autoencoder model loading, from c:\\Users\\igor-\\.cloned\\kcg-ml-sd1p4\\input\\model\\autoencoder\\autoencoder.ckpt...\n",
      "INFO: Using CUDA device 0: NVIDIA GeForce RTX 3080 Ti.\n",
      "Finished section: autoencoder model loading, from c:\\Users\\igor-\\.cloned\\kcg-ml-sd1p4\\input\\model\\autoencoder\\autoencoder.ckpt in 0.00 seconds\n",
      "\n",
      "Starting section: casting autoencoder model to device and evaling...\n",
      "Finished section: casting autoencoder model to device and evaling in 0.00 seconds\n",
      "\n"
     ]
    }
   ],
   "source": [
    "autoencoder = load_autoencoder(device = device)"
   ]
  },
  {
   "cell_type": "code",
   "execution_count": 5,
   "metadata": {},
   "outputs": [
    {
     "name": "stdout",
     "output_type": "stream",
     "text": [
      "Free: 10730 MiB\n",
      "Total: 12287 MiB\n",
      "Used: 1557 MiB\n"
     ]
    },
    {
     "data": {
      "text/plain": [
       "(tensor(10730), tensor(12287))"
      ]
     },
     "execution_count": 5,
     "metadata": {},
     "output_type": "execute_result"
    }
   ],
   "source": [
    "get_memory_status()"
   ]
  },
  {
   "cell_type": "code",
   "execution_count": 6,
   "metadata": {},
   "outputs": [],
   "source": [
    "autoencoder.encoder = encoder\n",
    "autoencoder.decoder = decoder"
   ]
  },
  {
   "cell_type": "code",
   "execution_count": 8,
   "metadata": {},
   "outputs": [],
   "source": [
    "img = load_img(\"./scripts2/test_img.jpg\").to(device)\n",
    "encoded_img = autoencoder.encode(img)"
   ]
  },
  {
   "cell_type": "code",
   "execution_count": 9,
   "metadata": {},
   "outputs": [
    {
     "name": "stdout",
     "output_type": "stream",
     "text": [
      "Free: 1199 MiB\n",
      "Total: 12287 MiB\n",
      "Used: 11088 MiB\n"
     ]
    },
    {
     "data": {
      "text/plain": [
       "(tensor(1199), tensor(12287))"
      ]
     },
     "execution_count": 9,
     "metadata": {},
     "output_type": "execute_result"
    }
   ],
   "source": [
    "get_memory_status()"
   ]
  },
  {
   "cell_type": "code",
   "execution_count": 12,
   "metadata": {},
   "outputs": [],
   "source": [
    "sample = encoded_img.sample()"
   ]
  },
  {
   "cell_type": "code",
   "execution_count": 13,
   "metadata": {},
   "outputs": [
    {
     "data": {
      "text/plain": [
       "torch.Size([1, 4, 64, 64])"
      ]
     },
     "execution_count": 13,
     "metadata": {},
     "output_type": "execute_result"
    }
   ],
   "source": [
    "sample.shape"
   ]
  },
  {
   "cell_type": "code",
   "execution_count": 14,
   "metadata": {},
   "outputs": [],
   "source": [
    "torch.cuda.empty_cache()"
   ]
  },
  {
   "cell_type": "code",
   "execution_count": 15,
   "metadata": {},
   "outputs": [
    {
     "name": "stdout",
     "output_type": "stream",
     "text": [
      "Free: 1260 MiB\n",
      "Total: 12287 MiB\n",
      "Used: 11027 MiB\n"
     ]
    },
    {
     "data": {
      "text/plain": [
       "(tensor(1260), tensor(12287))"
      ]
     },
     "execution_count": 15,
     "metadata": {},
     "output_type": "execute_result"
    }
   ],
   "source": [
    "get_memory_status()"
   ]
  },
  {
   "cell_type": "code",
   "execution_count": 11,
   "metadata": {},
   "outputs": [
    {
     "name": "stdout",
     "output_type": "stream",
     "text": [
      "Starting autoencoder initialization from saved submodels...\n",
      "Finished autoencoder initialization from saved submodels in 0.25 seconds\n"
     ]
    }
   ],
   "source": [
    "with section(\"autoencoder initialization from saved submodels\"):\n",
    "    autoencoder_3 = Autoencoder(emb_channels=4, z_channels=4)\n",
    "    autoencoder_3.load_submodels(encoder_path=ENCODER_PATH, decoder_path=DECODER_PATH)"
   ]
  },
  {
   "cell_type": "code",
   "execution_count": 12,
   "metadata": {},
   "outputs": [],
   "source": [
    "encoded_img_3 = autoencoder_3.encoder(img)"
   ]
  },
  {
   "cell_type": "code",
   "execution_count": 13,
   "metadata": {},
   "outputs": [
    {
     "data": {
      "text/plain": [
       "(torch.Size([1, 8, 64, 64]), torch.Size([1, 8, 64, 64]))"
      ]
     },
     "execution_count": 13,
     "metadata": {},
     "output_type": "execute_result"
    }
   ],
   "source": [
    "encoded_img.shape, encoded_img_3.shape"
   ]
  },
  {
   "cell_type": "code",
   "execution_count": 14,
   "metadata": {},
   "outputs": [
    {
     "data": {
      "text/plain": [
       "tensor(0., device='cuda:0', grad_fn=<LinalgVectorNormBackward0>)"
      ]
     },
     "execution_count": 14,
     "metadata": {},
     "output_type": "execute_result"
    }
   ],
   "source": [
    "torch.norm(encoded_img_3 - encoded_img)"
   ]
  },
  {
   "cell_type": "code",
   "execution_count": null,
   "metadata": {},
   "outputs": [],
   "source": [
    "latent_diffusion_model = "
   ]
  }
 ],
 "metadata": {
  "kernelspec": {
   "display_name": "kcg",
   "language": "python",
   "name": "python3"
  },
  "language_info": {
   "codemirror_mode": {
    "name": "ipython",
    "version": 3
   },
   "file_extension": ".py",
   "mimetype": "text/x-python",
   "name": "python",
   "nbconvert_exporter": "python",
   "pygments_lexer": "ipython3",
   "version": "3.10.9"
  },
  "orig_nbformat": 4
 },
 "nbformat": 4,
 "nbformat_minor": 2
}
